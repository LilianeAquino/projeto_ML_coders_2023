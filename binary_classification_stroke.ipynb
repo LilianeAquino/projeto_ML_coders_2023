{
 "cells": [
  {
   "cell_type": "markdown",
   "id": "030b98bb",
   "metadata": {},
   "source": [
    "# Projeto: Machine Learning I"
   ]
  },
  {
   "cell_type": "markdown",
   "id": "c2e11b92",
   "metadata": {},
   "source": [
    "<font size=4.5><center><b>Classificação binária com um conjunto de dados de previsão de AVC</b></center></font>\n",
    "\n",
    "<p style='text-align: justify;'><font size=3>Segundo o Ministério da Saúde, o Acidente Vascular Cerebral é uma doença em que os vasos que levam sangue ao cérebro entopem ou se rompem, provocando uma paralisia na área que ficou sem circulação sanguínea. O AVC acomete mais os homens e é uma das principais causas de morte, incapacitação e internações em todo o mundo.</font></p>\n",
    "\n",
    "<p style='text-align: justify;'><font size=3>A Organização Mundial da Saúde (OMS), afirma que o AVC é a 2ª principal causa de morte no mundo, responsável por aproximadamente 11% do total de óbitos. Com base nisso, nosso objetivo será aplicar técnicas de aprendizagem de máquina para prever se um paciente tem probabilidade de sofrer ou não um acidente vascular cerebral com base nos parâmetros do conjunto de dados com a intenção auxiliar na adoção de medidas de prevenção da doença.</font></p>\n",
    "\n",
    "\n",
    "<font size=2><b>Fontes</b>: \n",
    "https://www.em.com.br/app/noticia/bem-viver/2022/04/18/interna_bem_viver,1360730/avc-e-a-segunda-causa-de-mortes-no-mundo-e-avanca-nos-paises-de-baixa-renda.shtml | https://www.gov.br/saude/pt-br/assuntos/saude-de-a-a-z/a/avc</font>\n",
    "\n",
    "\n",
    "<font size=2><b>Fonte dos dados</b>: https://www.kaggle.com/datasets/fedesoriano/stroke-prediction-dataset?select=healthcare-dataset-stroke-data.csv.</font>\n",
    "\n",
    "<font size=2>Para baixar a base concatenada, acesso o drive: https://drive.google.com/drive/folders/1ccl2ocMkPtjqaC1-ktYa1kKzop_jXI1Y?usp=sharing</font>\n",
    "\n",
    "\n",
    "![Descrição da Imagem](img/AVC-300x164.jpg)"
   ]
  },
  {
   "cell_type": "markdown",
   "id": "4c420e97",
   "metadata": {},
   "source": [
    "<font size=4.5><center><b>Dicionário dos dados</b></center></font>\n",
    "\n",
    "|Campos|Descrição|\n",
    "|---|---|\n",
    "|id|identificador único|\n",
    "|gender|masculino, feminino ou outro|\n",
    "|age|idade do paciente|\n",
    "|hypertension|0 se o paciente não tiver hipertensão, 1 se o paciente tiver hipertensão|\n",
    "|heart_disease|0 se o paciente não tiver nenhuma doença cardíaca, 1 se o paciente tiver uma doença cardíaca|\n",
    "|ever_married|não ou sim|\n",
    "|work_type|filhos, trabalho governamental, nunca trabalhei, privado, autônomo|\n",
    "|Residence_type|rural ou urbano|\n",
    "|avg_glucose_level|nível médio de glicose no sangue|\n",
    "|bmi|índice de massa corporal|\n",
    "|smoking_status|fumou anteriormente, nunca fumou, fuma ou desconhecido*|\n",
    "|stroke| 1 se o paciente teve acidente vascular cerebral ou 0 se não|\n",
    "\n",
    "*Nota: \"Unknown\" em smoking_status significa que a informação não está disponível para este paciente"
   ]
  },
  {
   "cell_type": "markdown",
   "id": "7d1946a4",
   "metadata": {},
   "source": [
    "### Imports necessários"
   ]
  },
  {
   "cell_type": "code",
   "execution_count": 5,
   "id": "01f59dff",
   "metadata": {},
   "outputs": [],
   "source": [
    "\"\"\"\n",
    "    Bibliotecas básicas de DS\n",
    "\"\"\"\n",
    "import warnings\n",
    "import numpy as np\n",
    "import pandas as pd\n",
    "\n",
    "\"\"\"\n",
    "    Bibliotecas de visualização de dados\n",
    "\"\"\"\n",
    "import seaborn as sns\n",
    "import matplotlib\n",
    "import matplotlib.pyplot as plt\n",
    "import matplotlib.colors as mcolors\n",
    "%matplotlib inline\n",
    "\n",
    "\"\"\"\n",
    " Bibliotecas para análise do dataset\n",
    "\"\"\"\n",
    "import sidetable\n",
    "\n",
    "\"\"\"\n",
    " Biblioteca de ML\n",
    "\"\"\"\n",
    "from sklearn.preprocessing import LabelEncoder\n",
    "from sklearn.model_selection import train_test_split\n",
    "from sklearn.metrics import accuracy_score, auc, precision_score, recall_score, f1_score, roc_auc_score, confusion_matrix\n",
    "from sklearn.model_selection import StratifiedKFold, cross_val_score\n",
    "from sklearn.ensemble import RandomForestClassifier\n",
    "from sklearn.linear_model import LogisticRegression\n",
    "from sklearn.neighbors import KNeighborsClassifier\n",
    "from sklearn.tree import DecisionTreeClassifier\n",
    "from sklearn.svm import SVC\n",
    "\n",
    "warnings.filterwarnings('ignore')\n",
    "pd.set_option('display.max_rows', 1000)\n",
    "pd.set_option('display.max_columns', 200)\n",
    "np.set_printoptions(suppress=True, precision=3)"
   ]
  },
  {
   "cell_type": "markdown",
   "id": "b3f6a7dc",
   "metadata": {},
   "source": [
    "### Conjunto de dados"
   ]
  },
  {
   "cell_type": "code",
   "execution_count": 6,
   "id": "bd8834ea",
   "metadata": {},
   "outputs": [
    {
     "name": "stdout",
     "output_type": "stream",
     "text": [
      "Linhas: 5110 | Colunas: 12\n"
     ]
    },
    {
     "data": {
      "text/html": [
       "<div>\n",
       "<style scoped>\n",
       "    .dataframe tbody tr th:only-of-type {\n",
       "        vertical-align: middle;\n",
       "    }\n",
       "\n",
       "    .dataframe tbody tr th {\n",
       "        vertical-align: top;\n",
       "    }\n",
       "\n",
       "    .dataframe thead th {\n",
       "        text-align: right;\n",
       "    }\n",
       "</style>\n",
       "<table border=\"1\" class=\"dataframe\">\n",
       "  <thead>\n",
       "    <tr style=\"text-align: right;\">\n",
       "      <th></th>\n",
       "      <th>id</th>\n",
       "      <th>gender</th>\n",
       "      <th>age</th>\n",
       "      <th>hypertension</th>\n",
       "      <th>heart_disease</th>\n",
       "      <th>ever_married</th>\n",
       "      <th>work_type</th>\n",
       "      <th>Residence_type</th>\n",
       "      <th>avg_glucose_level</th>\n",
       "      <th>bmi</th>\n",
       "      <th>smoking_status</th>\n",
       "      <th>stroke</th>\n",
       "    </tr>\n",
       "  </thead>\n",
       "  <tbody>\n",
       "    <tr>\n",
       "      <th>0</th>\n",
       "      <td>9046</td>\n",
       "      <td>Male</td>\n",
       "      <td>67.0</td>\n",
       "      <td>0</td>\n",
       "      <td>1</td>\n",
       "      <td>Yes</td>\n",
       "      <td>Private</td>\n",
       "      <td>Urban</td>\n",
       "      <td>228.69</td>\n",
       "      <td>36.6</td>\n",
       "      <td>formerly smoked</td>\n",
       "      <td>1</td>\n",
       "    </tr>\n",
       "  </tbody>\n",
       "</table>\n",
       "</div>"
      ],
      "text/plain": [
       "     id gender   age  hypertension  heart_disease ever_married work_type  \\\n",
       "0  9046   Male  67.0             0              1          Yes   Private   \n",
       "\n",
       "  Residence_type  avg_glucose_level   bmi   smoking_status  stroke  \n",
       "0          Urban             228.69  36.6  formerly smoked       1  "
      ]
     },
     "execution_count": 6,
     "metadata": {},
     "output_type": "execute_result"
    }
   ],
   "source": [
    "df = pd.read_csv('data/healthcare-dataset-stroke-data.csv')\n",
    "print(f'Linhas: {df.shape[0]} | Colunas: {df.shape[1]}')\n",
    "df.head(1)"
   ]
  },
  {
   "cell_type": "markdown",
   "id": "bac54518",
   "metadata": {},
   "source": [
    "### Informação dataset"
   ]
  },
  {
   "cell_type": "code",
   "execution_count": 7,
   "id": "6b6b41e3",
   "metadata": {},
   "outputs": [
    {
     "name": "stdout",
     "output_type": "stream",
     "text": [
      "<class 'pandas.core.frame.DataFrame'>\n",
      "RangeIndex: 5110 entries, 0 to 5109\n",
      "Data columns (total 12 columns):\n",
      " #   Column             Non-Null Count  Dtype  \n",
      "---  ------             --------------  -----  \n",
      " 0   id                 5110 non-null   int64  \n",
      " 1   gender             5110 non-null   object \n",
      " 2   age                5110 non-null   float64\n",
      " 3   hypertension       5110 non-null   int64  \n",
      " 4   heart_disease      5110 non-null   int64  \n",
      " 5   ever_married       5110 non-null   object \n",
      " 6   work_type          5110 non-null   object \n",
      " 7   Residence_type     5110 non-null   object \n",
      " 8   avg_glucose_level  5110 non-null   float64\n",
      " 9   bmi                4909 non-null   float64\n",
      " 10  smoking_status     5110 non-null   object \n",
      " 11  stroke             5110 non-null   int64  \n",
      "dtypes: float64(3), int64(4), object(5)\n",
      "memory usage: 479.2+ KB\n"
     ]
    }
   ],
   "source": [
    "df.info()"
   ]
  },
  {
   "cell_type": "markdown",
   "id": "3b3b3872",
   "metadata": {},
   "source": [
    "#### Valores nulos"
   ]
  },
  {
   "cell_type": "code",
   "execution_count": 8,
   "id": "e5d80ad4",
   "metadata": {},
   "outputs": [
    {
     "data": {
      "text/html": [
       "<div>\n",
       "<style scoped>\n",
       "    .dataframe tbody tr th:only-of-type {\n",
       "        vertical-align: middle;\n",
       "    }\n",
       "\n",
       "    .dataframe tbody tr th {\n",
       "        vertical-align: top;\n",
       "    }\n",
       "\n",
       "    .dataframe thead th {\n",
       "        text-align: right;\n",
       "    }\n",
       "</style>\n",
       "<table border=\"1\" class=\"dataframe\">\n",
       "  <thead>\n",
       "    <tr style=\"text-align: right;\">\n",
       "      <th></th>\n",
       "      <th>missing</th>\n",
       "      <th>total</th>\n",
       "      <th>percent</th>\n",
       "    </tr>\n",
       "  </thead>\n",
       "  <tbody>\n",
       "    <tr>\n",
       "      <th>bmi</th>\n",
       "      <td>201</td>\n",
       "      <td>5110</td>\n",
       "      <td>3.933464</td>\n",
       "    </tr>\n",
       "    <tr>\n",
       "      <th>id</th>\n",
       "      <td>0</td>\n",
       "      <td>5110</td>\n",
       "      <td>0.000000</td>\n",
       "    </tr>\n",
       "    <tr>\n",
       "      <th>gender</th>\n",
       "      <td>0</td>\n",
       "      <td>5110</td>\n",
       "      <td>0.000000</td>\n",
       "    </tr>\n",
       "    <tr>\n",
       "      <th>age</th>\n",
       "      <td>0</td>\n",
       "      <td>5110</td>\n",
       "      <td>0.000000</td>\n",
       "    </tr>\n",
       "    <tr>\n",
       "      <th>hypertension</th>\n",
       "      <td>0</td>\n",
       "      <td>5110</td>\n",
       "      <td>0.000000</td>\n",
       "    </tr>\n",
       "    <tr>\n",
       "      <th>heart_disease</th>\n",
       "      <td>0</td>\n",
       "      <td>5110</td>\n",
       "      <td>0.000000</td>\n",
       "    </tr>\n",
       "    <tr>\n",
       "      <th>ever_married</th>\n",
       "      <td>0</td>\n",
       "      <td>5110</td>\n",
       "      <td>0.000000</td>\n",
       "    </tr>\n",
       "    <tr>\n",
       "      <th>work_type</th>\n",
       "      <td>0</td>\n",
       "      <td>5110</td>\n",
       "      <td>0.000000</td>\n",
       "    </tr>\n",
       "    <tr>\n",
       "      <th>Residence_type</th>\n",
       "      <td>0</td>\n",
       "      <td>5110</td>\n",
       "      <td>0.000000</td>\n",
       "    </tr>\n",
       "    <tr>\n",
       "      <th>avg_glucose_level</th>\n",
       "      <td>0</td>\n",
       "      <td>5110</td>\n",
       "      <td>0.000000</td>\n",
       "    </tr>\n",
       "    <tr>\n",
       "      <th>smoking_status</th>\n",
       "      <td>0</td>\n",
       "      <td>5110</td>\n",
       "      <td>0.000000</td>\n",
       "    </tr>\n",
       "    <tr>\n",
       "      <th>stroke</th>\n",
       "      <td>0</td>\n",
       "      <td>5110</td>\n",
       "      <td>0.000000</td>\n",
       "    </tr>\n",
       "  </tbody>\n",
       "</table>\n",
       "</div>"
      ],
      "text/plain": [
       "                   missing  total   percent\n",
       "bmi                    201   5110  3.933464\n",
       "id                       0   5110  0.000000\n",
       "gender                   0   5110  0.000000\n",
       "age                      0   5110  0.000000\n",
       "hypertension             0   5110  0.000000\n",
       "heart_disease            0   5110  0.000000\n",
       "ever_married             0   5110  0.000000\n",
       "work_type                0   5110  0.000000\n",
       "Residence_type           0   5110  0.000000\n",
       "avg_glucose_level        0   5110  0.000000\n",
       "smoking_status           0   5110  0.000000\n",
       "stroke                   0   5110  0.000000"
      ]
     },
     "execution_count": 8,
     "metadata": {},
     "output_type": "execute_result"
    }
   ],
   "source": [
    "df.stb.missing()"
   ]
  },
  {
   "cell_type": "markdown",
   "id": "b9a31287",
   "metadata": {},
   "source": [
    "#### Imputação valores nulos\n",
    "\n",
    "> Pelo fato do índice de massa corporal do paciente ser importante para identificar a obesidade, que é um fator de risco significativo para acidente vascular cerebral, optaremos por preencher valores nulos usando a técnica de interpolação linear. Essa técnica permite preencher esses nulos com valores intermediários usando como base os valores circundantes. Neste método, os valores intermediários são estimados por uma reta que liga os pontos de dados vizinhos"
   ]
  },
  {
   "cell_type": "code",
   "execution_count": 9,
   "id": "b27aa52d",
   "metadata": {},
   "outputs": [],
   "source": [
    "df['bmi'].interpolate(method='linear', inplace=True, limit_direction='both')"
   ]
  },
  {
   "cell_type": "markdown",
   "id": "a8802fa2",
   "metadata": {},
   "source": [
    "#### Correção tipo de dados"
   ]
  },
  {
   "cell_type": "code",
   "execution_count": 10,
   "id": "7c0fcd18",
   "metadata": {},
   "outputs": [],
   "source": [
    "df['age'] = df['age'].astype(int)\n",
    "\n",
    "mapSimOuNao = {0: 'No', 1: 'Yes'}\n",
    "df['hypertension'] = df['hypertension'].map(mapSimOuNao)\n",
    "df['heart_disease'] = df['heart_disease'].map(mapSimOuNao)\n",
    "df['stroke'] = df['stroke'].map(mapSimOuNao)"
   ]
  },
  {
   "cell_type": "markdown",
   "id": "e461c0da",
   "metadata": {},
   "source": [
    "### Seleção de features\n",
    "\n",
    "> Removidas as features não relevantes para as análises"
   ]
  },
  {
   "cell_type": "code",
   "execution_count": 11,
   "id": "39900bc6",
   "metadata": {},
   "outputs": [],
   "source": [
    "df.drop(['id'], axis=1, inplace=True)"
   ]
  },
  {
   "cell_type": "markdown",
   "id": "e60c9797",
   "metadata": {},
   "source": [
    "### Base final"
   ]
  },
  {
   "cell_type": "code",
   "execution_count": 12,
   "id": "d4fad963",
   "metadata": {},
   "outputs": [
    {
     "data": {
      "text/html": [
       "<div>\n",
       "<style scoped>\n",
       "    .dataframe tbody tr th:only-of-type {\n",
       "        vertical-align: middle;\n",
       "    }\n",
       "\n",
       "    .dataframe tbody tr th {\n",
       "        vertical-align: top;\n",
       "    }\n",
       "\n",
       "    .dataframe thead th {\n",
       "        text-align: right;\n",
       "    }\n",
       "</style>\n",
       "<table border=\"1\" class=\"dataframe\">\n",
       "  <thead>\n",
       "    <tr style=\"text-align: right;\">\n",
       "      <th></th>\n",
       "      <th>gender</th>\n",
       "      <th>age</th>\n",
       "      <th>hypertension</th>\n",
       "      <th>heart_disease</th>\n",
       "      <th>ever_married</th>\n",
       "      <th>work_type</th>\n",
       "      <th>Residence_type</th>\n",
       "      <th>avg_glucose_level</th>\n",
       "      <th>bmi</th>\n",
       "      <th>smoking_status</th>\n",
       "      <th>stroke</th>\n",
       "    </tr>\n",
       "  </thead>\n",
       "  <tbody>\n",
       "    <tr>\n",
       "      <th>796</th>\n",
       "      <td>Female</td>\n",
       "      <td>29</td>\n",
       "      <td>No</td>\n",
       "      <td>No</td>\n",
       "      <td>No</td>\n",
       "      <td>Private</td>\n",
       "      <td>Urban</td>\n",
       "      <td>60.26</td>\n",
       "      <td>20.4</td>\n",
       "      <td>never smoked</td>\n",
       "      <td>No</td>\n",
       "    </tr>\n",
       "    <tr>\n",
       "      <th>5105</th>\n",
       "      <td>Female</td>\n",
       "      <td>80</td>\n",
       "      <td>Yes</td>\n",
       "      <td>No</td>\n",
       "      <td>Yes</td>\n",
       "      <td>Private</td>\n",
       "      <td>Urban</td>\n",
       "      <td>83.75</td>\n",
       "      <td>29.3</td>\n",
       "      <td>never smoked</td>\n",
       "      <td>No</td>\n",
       "    </tr>\n",
       "    <tr>\n",
       "      <th>2617</th>\n",
       "      <td>Male</td>\n",
       "      <td>53</td>\n",
       "      <td>No</td>\n",
       "      <td>No</td>\n",
       "      <td>Yes</td>\n",
       "      <td>Private</td>\n",
       "      <td>Urban</td>\n",
       "      <td>86.25</td>\n",
       "      <td>29.3</td>\n",
       "      <td>never smoked</td>\n",
       "      <td>No</td>\n",
       "    </tr>\n",
       "    <tr>\n",
       "      <th>4257</th>\n",
       "      <td>Female</td>\n",
       "      <td>24</td>\n",
       "      <td>No</td>\n",
       "      <td>No</td>\n",
       "      <td>No</td>\n",
       "      <td>Self-employed</td>\n",
       "      <td>Urban</td>\n",
       "      <td>79.42</td>\n",
       "      <td>21.4</td>\n",
       "      <td>never smoked</td>\n",
       "      <td>No</td>\n",
       "    </tr>\n",
       "    <tr>\n",
       "      <th>4676</th>\n",
       "      <td>Female</td>\n",
       "      <td>28</td>\n",
       "      <td>No</td>\n",
       "      <td>No</td>\n",
       "      <td>No</td>\n",
       "      <td>Private</td>\n",
       "      <td>Urban</td>\n",
       "      <td>73.20</td>\n",
       "      <td>26.5</td>\n",
       "      <td>smokes</td>\n",
       "      <td>No</td>\n",
       "    </tr>\n",
       "  </tbody>\n",
       "</table>\n",
       "</div>"
      ],
      "text/plain": [
       "      gender  age hypertension heart_disease ever_married      work_type  \\\n",
       "796   Female   29           No            No           No        Private   \n",
       "5105  Female   80          Yes            No          Yes        Private   \n",
       "2617    Male   53           No            No          Yes        Private   \n",
       "4257  Female   24           No            No           No  Self-employed   \n",
       "4676  Female   28           No            No           No        Private   \n",
       "\n",
       "     Residence_type  avg_glucose_level   bmi smoking_status stroke  \n",
       "796           Urban              60.26  20.4   never smoked     No  \n",
       "5105          Urban              83.75  29.3   never smoked     No  \n",
       "2617          Urban              86.25  29.3   never smoked     No  \n",
       "4257          Urban              79.42  21.4   never smoked     No  \n",
       "4676          Urban              73.20  26.5         smokes     No  "
      ]
     },
     "execution_count": 12,
     "metadata": {},
     "output_type": "execute_result"
    }
   ],
   "source": [
    "df.sample(5)"
   ]
  },
  {
   "cell_type": "markdown",
   "id": "96c57ca2",
   "metadata": {},
   "source": [
    "### Perfil médio de todos os pacientes"
   ]
  },
  {
   "cell_type": "code",
   "execution_count": 13,
   "id": "82a00a16",
   "metadata": {},
   "outputs": [
    {
     "data": {
      "text/html": [
       "<div>\n",
       "<style scoped>\n",
       "    .dataframe tbody tr th:only-of-type {\n",
       "        vertical-align: middle;\n",
       "    }\n",
       "\n",
       "    .dataframe tbody tr th {\n",
       "        vertical-align: top;\n",
       "    }\n",
       "\n",
       "    .dataframe thead th {\n",
       "        text-align: right;\n",
       "    }\n",
       "</style>\n",
       "<table border=\"1\" class=\"dataframe\">\n",
       "  <thead>\n",
       "    <tr style=\"text-align: right;\">\n",
       "      <th></th>\n",
       "      <th>age</th>\n",
       "      <th>avg_glucose_level</th>\n",
       "      <th>bmi</th>\n",
       "    </tr>\n",
       "  </thead>\n",
       "  <tbody>\n",
       "    <tr>\n",
       "      <th>count</th>\n",
       "      <td>5110.00</td>\n",
       "      <td>5110.00</td>\n",
       "      <td>5110.00</td>\n",
       "    </tr>\n",
       "    <tr>\n",
       "      <th>mean</th>\n",
       "      <td>43.22</td>\n",
       "      <td>106.15</td>\n",
       "      <td>28.93</td>\n",
       "    </tr>\n",
       "    <tr>\n",
       "      <th>std</th>\n",
       "      <td>22.63</td>\n",
       "      <td>45.28</td>\n",
       "      <td>7.78</td>\n",
       "    </tr>\n",
       "    <tr>\n",
       "      <th>min</th>\n",
       "      <td>0.00</td>\n",
       "      <td>55.12</td>\n",
       "      <td>10.30</td>\n",
       "    </tr>\n",
       "    <tr>\n",
       "      <th>25%</th>\n",
       "      <td>25.00</td>\n",
       "      <td>77.24</td>\n",
       "      <td>23.60</td>\n",
       "    </tr>\n",
       "    <tr>\n",
       "      <th>50%</th>\n",
       "      <td>45.00</td>\n",
       "      <td>91.88</td>\n",
       "      <td>28.10</td>\n",
       "    </tr>\n",
       "    <tr>\n",
       "      <th>75%</th>\n",
       "      <td>61.00</td>\n",
       "      <td>114.09</td>\n",
       "      <td>33.10</td>\n",
       "    </tr>\n",
       "    <tr>\n",
       "      <th>max</th>\n",
       "      <td>82.00</td>\n",
       "      <td>271.74</td>\n",
       "      <td>97.60</td>\n",
       "    </tr>\n",
       "  </tbody>\n",
       "</table>\n",
       "</div>"
      ],
      "text/plain": [
       "           age  avg_glucose_level      bmi\n",
       "count  5110.00            5110.00  5110.00\n",
       "mean     43.22             106.15    28.93\n",
       "std      22.63              45.28     7.78\n",
       "min       0.00              55.12    10.30\n",
       "25%      25.00              77.24    23.60\n",
       "50%      45.00              91.88    28.10\n",
       "75%      61.00             114.09    33.10\n",
       "max      82.00             271.74    97.60"
      ]
     },
     "execution_count": 13,
     "metadata": {},
     "output_type": "execute_result"
    }
   ],
   "source": [
    "df.describe().round(2)"
   ]
  },
  {
   "cell_type": "markdown",
   "id": "9ea42755",
   "metadata": {},
   "source": [
    "<p style='text-align: justify;'><font size=3.>A idade dos pacientes na base de dados varia consideravelmente, com valores entre 0 e 82 anos. A média de idade é de aproximadamente 43 anos, com a maioria dos pacientes tendo idades entre 25 e 61 anos. A idade mínima na base de dados é 0, embora isso possa ser problemático, será mantido considerando que a variável work_type deixa claro que são crianças.</font></p>\n",
    "\n",
    "<p style='text-align: justify;'><font size=3.>O nível médio de glicose no sangue varia significativamente, com valores entre 55,12 e 271,74. Essa variação indica que alguns pacientes têm níveis muito baixos e outros têm níveis muito altos de glicose. A média está em torno de 106,15, indicando que a maioria dos pacientes tem níveis de glicose na faixa intermediária.</font></p>\n",
    "\n",
    "<p style='text-align: justify;'><font size=3.>O IMC também varia consideravelmente,entre 10,30 a 97,60. A média é de cerca de 28,93, o que está na faixa de sobrepeso, com o desvio padrão de aproximadamente 7,78. Isso significa que os valores estão bastante espalhados em relação à média, o que pode indicar pacientes com grande variação de peso corporal, sendo alguns deles consideravelmente acima da média e outros significativamente abaixo.</font></p>"
   ]
  },
  {
   "cell_type": "code",
   "execution_count": 14,
   "id": "40cf067e",
   "metadata": {},
   "outputs": [
    {
     "data": {
      "text/html": [
       "<div>\n",
       "<style scoped>\n",
       "    .dataframe tbody tr th:only-of-type {\n",
       "        vertical-align: middle;\n",
       "    }\n",
       "\n",
       "    .dataframe tbody tr th {\n",
       "        vertical-align: top;\n",
       "    }\n",
       "\n",
       "    .dataframe thead th {\n",
       "        text-align: right;\n",
       "    }\n",
       "</style>\n",
       "<table border=\"1\" class=\"dataframe\">\n",
       "  <thead>\n",
       "    <tr style=\"text-align: right;\">\n",
       "      <th></th>\n",
       "      <th>gender</th>\n",
       "      <th>hypertension</th>\n",
       "      <th>heart_disease</th>\n",
       "      <th>ever_married</th>\n",
       "      <th>work_type</th>\n",
       "      <th>Residence_type</th>\n",
       "      <th>smoking_status</th>\n",
       "      <th>stroke</th>\n",
       "    </tr>\n",
       "  </thead>\n",
       "  <tbody>\n",
       "    <tr>\n",
       "      <th>count</th>\n",
       "      <td>5110</td>\n",
       "      <td>5110</td>\n",
       "      <td>5110</td>\n",
       "      <td>5110</td>\n",
       "      <td>5110</td>\n",
       "      <td>5110</td>\n",
       "      <td>5110</td>\n",
       "      <td>5110</td>\n",
       "    </tr>\n",
       "    <tr>\n",
       "      <th>unique</th>\n",
       "      <td>3</td>\n",
       "      <td>2</td>\n",
       "      <td>2</td>\n",
       "      <td>2</td>\n",
       "      <td>5</td>\n",
       "      <td>2</td>\n",
       "      <td>4</td>\n",
       "      <td>2</td>\n",
       "    </tr>\n",
       "    <tr>\n",
       "      <th>top</th>\n",
       "      <td>Female</td>\n",
       "      <td>No</td>\n",
       "      <td>No</td>\n",
       "      <td>Yes</td>\n",
       "      <td>Private</td>\n",
       "      <td>Urban</td>\n",
       "      <td>never smoked</td>\n",
       "      <td>No</td>\n",
       "    </tr>\n",
       "    <tr>\n",
       "      <th>freq</th>\n",
       "      <td>2994</td>\n",
       "      <td>4612</td>\n",
       "      <td>4834</td>\n",
       "      <td>3353</td>\n",
       "      <td>2925</td>\n",
       "      <td>2596</td>\n",
       "      <td>1892</td>\n",
       "      <td>4861</td>\n",
       "    </tr>\n",
       "  </tbody>\n",
       "</table>\n",
       "</div>"
      ],
      "text/plain": [
       "        gender hypertension heart_disease ever_married work_type  \\\n",
       "count     5110         5110          5110         5110      5110   \n",
       "unique       3            2             2            2         5   \n",
       "top     Female           No            No          Yes   Private   \n",
       "freq      2994         4612          4834         3353      2925   \n",
       "\n",
       "       Residence_type smoking_status stroke  \n",
       "count            5110           5110   5110  \n",
       "unique              2              4      2  \n",
       "top             Urban   never smoked     No  \n",
       "freq             2596           1892   4861  "
      ]
     },
     "execution_count": 14,
     "metadata": {},
     "output_type": "execute_result"
    }
   ],
   "source": [
    "df.describe(include='O')"
   ]
  },
  {
   "cell_type": "markdown",
   "id": "e1066075",
   "metadata": {},
   "source": [
    "<p style='text-align: justify;'><font size=3.>A base de dados é composta, majoritariamente, por pacientes do sexo feminino. Vemos também que a maioria não tem hipertensão, não possui doença cardíaca e não tiveram um AVC. Além disso, a maior parte dos pacientes trabalha no setor privado, reside em áreas urbana, é casada e nunca fumou.</font></p>"
   ]
  },
  {
   "cell_type": "markdown",
   "id": "7e047261",
   "metadata": {},
   "source": [
    "### Outliers"
   ]
  },
  {
   "cell_type": "code",
   "execution_count": 15,
   "id": "3bc10ea7",
   "metadata": {},
   "outputs": [
    {
     "data": {
      "image/png": "[encoded data removed]",
      "text/plain": [
       "<Figure size 1200x600 with 1 Axes>"
      ]
     },
     "metadata": {},
     "output_type": "display_data"
    }
   ],
   "source": [
    "suptitle = 'Análise de outliers'\n",
    "title = 'Analisando a presença de valores extremos nas variáveis numéricas'\n",
    "\n",
    "ax = sns.boxplot(data=df, color='#808080')\n",
    "ax.figure.set_size_inches(12, 6)\n",
    "ax.spines[['top', 'right']].set_visible(False)\n",
    "plt.suptitle(suptitle, fontsize=18, y=1.02, horizontalalignment='left', x=0.12, color='black', weight='bold')\n",
    "plt.title(title, fontsize=14, color='#646464', y=1.05, loc='left', x=-0.01)\n",
    "plt.grid(False)\n",
    "plt.show()"
   ]
  },
  {
   "cell_type": "markdown",
   "id": "08f7bd65",
   "metadata": {},
   "source": [
    "<p style='text-align: justify;'><font size=3.>Analisando os dados em busca de outliers podemos ver que alguns pacientes apresentam valores de glicose em níveis elevados e a maioria dos pacientes tem índices de massa corporal acima do normal, indicando um potencial problema de sobrepeso. Esses valores extremos são informações importantes, uma vez que diabetes, sobrepeso e obesidade são alguns dos fatores que aumentam a probabilidade de ocorrência de um AVC.</font></p>"
   ]
  },
  {
   "cell_type": "markdown",
   "id": "264897c0",
   "metadata": {},
   "source": [
    "### Stroke vs. Não stroke"
   ]
  },
  {
   "cell_type": "code",
   "execution_count": 16,
   "id": "47cab43d",
   "metadata": {},
   "outputs": [
    {
     "data": {
      "image/png": "[encoded data removed]",
      "text/plain": [
       "<Figure size 1200x600 with 1 Axes>"
      ]
     },
     "metadata": {},
     "output_type": "display_data"
    }
   ],
   "source": [
    "suptitle = 'Pacientes que tiveram AVC vs. pacientes que não tiveram'\n",
    "title = 'Análise da distribuição para a variável stroke'\n",
    "colors=['#191970', '#808080']\n",
    "\n",
    "strokeCounts = df['stroke'].value_counts()\n",
    "strokeCounts.plot.bar(width=0.5, alpha=0.7, figsize=(12, 6), rot=False, color=colors).spines[['top', 'right']].set_visible(False)\n",
    "\n",
    "plt.suptitle(suptitle, fontsize=18, y=1.02, horizontalalignment='left', x=0.12, color='black', weight='bold')\n",
    "plt.title(title, fontsize=14, color='#646464', y=1.05, loc='left', x=-0.01)\n",
    "plt.xlabel(None)\n",
    "plt.ylabel('Número de Pacientes', fontsize=14, horizontalalignment='left', y=0.57)\n",
    "plt.xticks([0, 1], ['Não teve AVC', 'Teve AVC'])\n",
    "plt.text(0, 2500, '4861', fontsize=12, weight='bold', horizontalalignment='center')\n",
    "plt.ylim(0, 5000)\n",
    "plt.grid(False)\n",
    "plt.show()"
   ]
  },
  {
   "cell_type": "markdown",
   "id": "31113987",
   "metadata": {},
   "source": [
    "<p style='text-align: justify;'><font size=3.>A distribuição de pacientes que tiveram AVC em comparação com aqueles que não tiveram mostra um desequilíbrio significativo das classes. Isso significa que a maioria dos pacientes na base de dados não teve um derrame, como já tinhamos visto antes. Isso pode ser um desafio na hora de desenvolver modelos de aprendizado de máquina, uma vez que modelos treinados em dados desequilibrados podem ser tendenciosos em direção à classe majoritária.</font></p>"
   ]
  },
  {
   "cell_type": "markdown",
   "id": "14abf995",
   "metadata": {},
   "source": [
    "## Perfil dos clientes que tiveram AVC\n",
    "\n",
    "> Como nosso interesse é predizer um AVC, vamos avaliar o perfil dos pacientes que tiveram."
   ]
  },
  {
   "cell_type": "code",
   "execution_count": 17,
   "id": "86656405",
   "metadata": {},
   "outputs": [
    {
     "name": "stdout",
     "output_type": "stream",
     "text": [
      "Total de pacientes tiveram AVC: 249\n"
     ]
    }
   ],
   "source": [
    "avc = df.query('stroke==\"Yes\"')\n",
    "print(f'Total de pacientes tiveram AVC: {len(avc)}')"
   ]
  },
  {
   "cell_type": "markdown",
   "id": "0ea168c9",
   "metadata": {},
   "source": [
    "### Idade"
   ]
  },
  {
   "cell_type": "code",
   "execution_count": 18,
   "id": "2d7202c0",
   "metadata": {
    "scrolled": false
   },
   "outputs": [
    {
     "data": {
      "image/png": "[encoded data removed]",
      "text/plain": [
       "<Figure size 1200x600 with 1 Axes>"
      ]
     },
     "metadata": {},
     "output_type": "display_data"
    }
   ],
   "source": [
    "suptitle = 'Histograma para idade'\n",
    "title = 'Qual a faixa de idade de pacientes que tiveram AVC?'\n",
    "\n",
    "ax = sns.distplot(avc['age'], kde=True, color='#191970')\n",
    "ax.figure.set_size_inches(12, 6)\n",
    "ax.set_ylabel('Densidade', fontsize=14, horizontalalignment='left', y=0.75)\n",
    "ax.set_xlabel(None)\n",
    "ax.spines[['top', 'right']].set_visible(False)\n",
    "\n",
    "plt.axvline(x=67.727, color='r', linestyle='dashed', linewidth=2, label='Média')\n",
    "plt.text(65, 0.062, 'média', fontsize=10, weight='bold', horizontalalignment='center')\n",
    "\n",
    "plt.axvline(x=71.000, color='g', linestyle='dashed', linewidth=2, label='Mediana')\n",
    "plt.text(75, 0.062, 'mediana', fontsize=10, weight='bold', horizontalalignment='center')\n",
    "\n",
    "plt.suptitle(suptitle, fontsize=18, y=1.02, horizontalalignment='left', x=0.12, color='black', weight='bold')\n",
    "plt.title(title, fontsize=14, color='#646464', y=1.05, loc='left', x=-0.01)\n",
    "plt.xlim(0, 100)\n",
    "plt.grid(False)\n",
    "plt.show()"
   ]
  },
  {
   "cell_type": "markdown",
   "id": "21d75cd9",
   "metadata": {},
   "source": [
    "<p style='text-align: justify;'><font size=3.>Em média, os pacientes que sofreram um AVC têm cerca de 68 anos de idade, com o desvio padrão de aproximadamente 13 anos, que indica que alguns pacientes podem ter idades significativamente mais jovens ou mais velhas que a média. Podemos perceber que há uma concentração significativa de casos em pacientes com idades mais avançadas, mas também alguns casos em idades mais jovens. A mediana é de 71 anos, o que significa que metade dos pacientes tem 71 anos ou menos e a outra metade está acima de 71.</font></p>\n",
    "\n",
    "<p style='text-align: justify;'><font size=3.>Esse resultado faz sentido uma vez que, segundo o Ministério da Saúde, pessoas com mais de 55 anos possuem maior propensão a desenvolver o AVC.</font></p>\n",
    "\n",
    "\n",
    "<font size=2><b>Fontes</b>: https://bvsms.saude.gov.br/avc-acidente-vascular-cerebral/</font>"
   ]
  },
  {
   "cell_type": "markdown",
   "id": "1c969d46",
   "metadata": {},
   "source": [
    "### Sexo biológico"
   ]
  },
  {
   "cell_type": "code",
   "execution_count": 19,
   "id": "fc2f524e",
   "metadata": {
    "scrolled": false
   },
   "outputs": [
    {
     "data": {
      "image/png": "[encoded data removed]",
      "text/plain": [
       "<Figure size 1200x600 with 1 Axes>"
      ]
     },
     "metadata": {},
     "output_type": "display_data"
    }
   ],
   "source": [
    "suptitle = 'Distribuição por sexo biológico'\n",
    "title = 'Qual o sexo biológico que mais sofreu AVC?'\n",
    "colors=['#191970', '#808080']\n",
    "\n",
    "dist_freq = (avc['gender'].value_counts(normalize=True)*100).round(2).reset_index()\n",
    "dist_freq['gender'].plot.bar(width=0.5, alpha=0.7, figsize=(12, 6), rot=False, color=colors).spines[['top', 'right']].set_visible(False)\n",
    "\n",
    "plt.suptitle(suptitle, fontsize=18, y=1.02, horizontalalignment='left', x=0.12, color='black', weight='bold')\n",
    "plt.title(title, fontsize=14, color='#646464', y=1.05, loc='left', x=-0.01)\n",
    "plt.ylabel('% pacientes', fontsize=14, horizontalalignment='left', y=0.75)\n",
    "plt.ylim(0, 60)\n",
    "plt.grid(False)\n",
    "plt.text(0, 27, '56,6%', fontsize=14, weight='bold', horizontalalignment='center')\n",
    "plt.gca().set_xticklabels(['Feminino', 'Masculino'])\n",
    "plt.show()"
   ]
  },
  {
   "cell_type": "markdown",
   "id": "5e12d1f2",
   "metadata": {},
   "source": [
    "<p style='text-align: justify;'><font size=3.>É possível identificar que 56,6% dos pacientes que sofreram AVC é do sexo feminino. Esse é um resultado interessante, uma vez que, ainda de acordo com Ministério da Saúde, pessoas do sexo masculino exibem maior tendência ao desenvolvimento de AVC. Portanto, é importante observar que essa análise refere-se apenas a essa amostra de dados, não refletindo, necessariamente, a realidade.</font></p>\n",
    "\n",
    "<font size=2><b>Fontes</b>: https://www.gov.br/saude/pt-br/assuntos/saude-de-a-a-z/a/avc</font>"
   ]
  },
  {
   "cell_type": "markdown",
   "id": "5a9468c0",
   "metadata": {},
   "source": [
    "### Estado civil"
   ]
  },
  {
   "cell_type": "code",
   "execution_count": 20,
   "id": "0e15fdcf",
   "metadata": {},
   "outputs": [
    {
     "data": {
      "image/png": "[encoded data removed]",
      "text/plain": [
       "<Figure size 1200x600 with 1 Axes>"
      ]
     },
     "metadata": {},
     "output_type": "display_data"
    }
   ],
   "source": [
    "suptitle = 'Distribuição por estado civil'\n",
    "title = 'O estado civil afeta a predisposição para o AVC?'\n",
    "colors=['#191970', '#808080']\n",
    "\n",
    "dist_freq = (avc['ever_married'].value_counts(normalize=True)*100).round(2).reset_index()\n",
    "dist_freq['ever_married'].plot.bar(width=0.5, alpha=0.7, figsize=(12, 6), rot=False, color=colors).spines[['top', 'right']].set_visible(False)\n",
    "\n",
    "plt.suptitle(suptitle, fontsize=18, y=1.02, horizontalalignment='left', x=0.12, color='black', weight='bold')\n",
    "plt.title(title, fontsize=14, color='#646464', y=1.05, loc='left', x=-0.01)\n",
    "plt.ylabel('% pacientes', fontsize=14, horizontalalignment='left', y=0.75)\n",
    "plt.ylim(0, 100)\n",
    "plt.grid(False)\n",
    "plt.text(0, 45, '88,4%', fontsize=14, weight='bold', horizontalalignment='center')\n",
    "plt.gca().set_xticklabels(['Já foi casado', 'Não foi casado'])\n",
    "plt.show()"
   ]
  },
  {
   "cell_type": "markdown",
   "id": "b876fc2a",
   "metadata": {},
   "source": [
    "<p style='text-align: justify;'><font size=3.>A porcentagem de pacientes com AVC que já foram casados é de 88,35%. Esse resultado é significativamente maior do que a dos pacientes não casados, o que pode sugerir que o estado civil pode estar associado a uma maior ou menor probabilidade de AVC. Embora não seja reconhecido como um fator de risco direto, o estado civil pode estar associado à um estilo de vida que pode levar a fatores de riscos relacionados à doenca, como por exemplo, sedentarismo ou hábitos alimentares. Porém, vale ressaltar que são apenas suposições e um estudo mais detalhado deve ser realizado.</font></p>"
   ]
  },
  {
   "cell_type": "markdown",
   "id": "8b7acc2e",
   "metadata": {},
   "source": [
    "### Hipertensão"
   ]
  },
  {
   "cell_type": "code",
   "execution_count": null,
   "id": "ae259d29",
   "metadata": {},
   "outputs": [],
   "source": []
  },
  {
   "cell_type": "code",
   "execution_count": null,
   "id": "0461711a",
   "metadata": {},
   "outputs": [],
   "source": []
  },
  {
   "cell_type": "code",
   "execution_count": null,
   "id": "c5dc0154",
   "metadata": {},
   "outputs": [],
   "source": []
  },
  {
   "cell_type": "markdown",
   "id": "045fff8f",
   "metadata": {},
   "source": [
    "### Doenças do coração"
   ]
  },
  {
   "cell_type": "code",
   "execution_count": null,
   "id": "0de4d9ea",
   "metadata": {},
   "outputs": [],
   "source": []
  },
  {
   "cell_type": "code",
   "execution_count": null,
   "id": "dc1eacd0",
   "metadata": {},
   "outputs": [],
   "source": []
  },
  {
   "cell_type": "code",
   "execution_count": null,
   "id": "574be7db",
   "metadata": {},
   "outputs": [],
   "source": []
  },
  {
   "cell_type": "markdown",
   "id": "57757c42",
   "metadata": {},
   "source": [
    "### Tipo de trabalho"
   ]
  },
  {
   "cell_type": "code",
   "execution_count": null,
   "id": "24dde32a",
   "metadata": {},
   "outputs": [],
   "source": []
  },
  {
   "cell_type": "code",
   "execution_count": null,
   "id": "f25c776b",
   "metadata": {},
   "outputs": [],
   "source": []
  },
  {
   "cell_type": "code",
   "execution_count": null,
   "id": "9a3579b5",
   "metadata": {},
   "outputs": [],
   "source": []
  },
  {
   "cell_type": "markdown",
   "id": "9c2761b8",
   "metadata": {},
   "source": [
    "### Tipo de residência"
   ]
  },
  {
   "cell_type": "code",
   "execution_count": null,
   "id": "8ad34844",
   "metadata": {},
   "outputs": [],
   "source": []
  },
  {
   "cell_type": "code",
   "execution_count": null,
   "id": "ec0d46a8",
   "metadata": {},
   "outputs": [],
   "source": []
  },
  {
   "cell_type": "code",
   "execution_count": null,
   "id": "5d7e8c6f",
   "metadata": {},
   "outputs": [],
   "source": []
  },
  {
   "cell_type": "markdown",
   "id": "54c5879a",
   "metadata": {},
   "source": [
    "### Nível de glicose"
   ]
  },
  {
   "cell_type": "code",
   "execution_count": null,
   "id": "3cf46325",
   "metadata": {},
   "outputs": [],
   "source": []
  },
  {
   "cell_type": "code",
   "execution_count": null,
   "id": "d49ca674",
   "metadata": {},
   "outputs": [],
   "source": []
  },
  {
   "cell_type": "code",
   "execution_count": null,
   "id": "d9e9d878",
   "metadata": {},
   "outputs": [],
   "source": []
  },
  {
   "cell_type": "markdown",
   "id": "faa61108",
   "metadata": {},
   "source": [
    "### Índice de massa corporal"
   ]
  },
  {
   "cell_type": "code",
   "execution_count": null,
   "id": "aa659906",
   "metadata": {},
   "outputs": [],
   "source": []
  },
  {
   "cell_type": "code",
   "execution_count": null,
   "id": "7156e1b3",
   "metadata": {},
   "outputs": [],
   "source": []
  },
  {
   "cell_type": "code",
   "execution_count": null,
   "id": "9504a4af",
   "metadata": {},
   "outputs": [],
   "source": []
  },
  {
   "cell_type": "markdown",
   "id": "d79ffc97",
   "metadata": {},
   "source": [
    "### Status de fumante"
   ]
  },
  {
   "cell_type": "code",
   "execution_count": null,
   "id": "31ff03d7",
   "metadata": {},
   "outputs": [],
   "source": []
  },
  {
   "cell_type": "code",
   "execution_count": null,
   "id": "9833ad44",
   "metadata": {},
   "outputs": [],
   "source": []
  },
  {
   "cell_type": "code",
   "execution_count": null,
   "id": "7d83d0fb",
   "metadata": {},
   "outputs": [],
   "source": []
  },
  {
   "cell_type": "markdown",
   "id": "4484e43d",
   "metadata": {},
   "source": [
    "### Correlação entre variáveis"
   ]
  },
  {
   "cell_type": "code",
   "execution_count": null,
   "id": "5cd60cd6",
   "metadata": {},
   "outputs": [],
   "source": []
  },
  {
   "cell_type": "code",
   "execution_count": null,
   "id": "e213836b",
   "metadata": {},
   "outputs": [],
   "source": []
  },
  {
   "cell_type": "code",
   "execution_count": null,
   "id": "42c26480",
   "metadata": {},
   "outputs": [],
   "source": []
  },
  {
   "cell_type": "code",
   "execution_count": null,
   "id": "82c73e4c",
   "metadata": {},
   "outputs": [],
   "source": []
  },
  {
   "cell_type": "markdown",
   "id": "33dc8691",
   "metadata": {},
   "source": [
    "## Modelagem com MLflow"
   ]
  },
  {
   "cell_type": "code",
   "execution_count": null,
   "id": "2d8e67ed",
   "metadata": {},
   "outputs": [],
   "source": []
  },
  {
   "cell_type": "code",
   "execution_count": null,
   "id": "3c12c7d8",
   "metadata": {},
   "outputs": [],
   "source": []
  },
  {
   "cell_type": "code",
   "execution_count": null,
   "id": "3cb59693",
   "metadata": {},
   "outputs": [],
   "source": []
  },
  {
   "cell_type": "code",
   "execution_count": null,
   "id": "217ab0ec",
   "metadata": {},
   "outputs": [],
   "source": []
  }
 ],
 "metadata": {
  "hide_input": false,
  "kernelspec": {
   "display_name": "Python 3 (ipykernel)",
   "language": "python",
   "name": "python3"
  },
  "language_info": {
   "codemirror_mode": {
    "name": "ipython",
    "version": 3
   },
   "file_extension": ".py",
   "mimetype": "text/x-python",
   "name": "python",
   "nbconvert_exporter": "python",
   "pygments_lexer": "ipython3",
   "version": "3.8.10"
  },
  "nbTranslate": {
   "displayLangs": [
    "*"
   ],
   "hotkey": "alt-t",
   "langInMainMenu": true,
   "sourceLang": "en",
   "targetLang": "fr",
   "useGoogleTranslate": true
  },
  "toc": {
   "base_numbering": 1,
   "nav_menu": {},
   "number_sections": true,
   "sideBar": true,
   "skip_h1_title": false,
   "title_cell": "Table of Contents",
   "title_sidebar": "Contents",
   "toc_cell": false,
   "toc_position": {},
   "toc_section_display": true,
   "toc_window_display": false
  },
  "varInspector": {
   "cols": {
    "lenName": 16,
    "lenType": 16,
    "lenVar": 40
   },
   "kernels_config": {
    "python": {
     "delete_cmd_postfix": "",
     "delete_cmd_prefix": "del ",
     "library": "var_list.py",
     "varRefreshCmd": "print(var_dic_list())"
    },
    "r": {
     "delete_cmd_postfix": ") ",
     "delete_cmd_prefix": "rm(",
     "library": "var_list.r",
     "varRefreshCmd": "cat(var_dic_list()) "
    }
   },
   "types_to_exclude": [
    "module",
    "function",
    "builtin_function_or_method",
    "instance",
    "_Feature"
   ],
   "window_display": false
  }
 },
 "nbformat": 4,
 "nbformat_minor": 5
}
